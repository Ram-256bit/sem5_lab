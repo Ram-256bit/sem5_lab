{
 "cells": [
  {
   "cell_type": "code",
   "execution_count": 17,
   "id": "4c664ba0-8d1f-400c-a8f8-9a648a448cbf",
   "metadata": {},
   "outputs": [],
   "source": [
    "import nltk"
   ]
  },
  {
   "cell_type": "code",
   "execution_count": 18,
   "id": "b5ee4313-d139-4443-8690-6dfc7496f8e3",
   "metadata": {},
   "outputs": [
    {
     "name": "stderr",
     "output_type": "stream",
     "text": [
      "[nltk_data] Downloading package brown to /home/ram/nltk_data...\n",
      "[nltk_data]   Package brown is already up-to-date!\n"
     ]
    }
   ],
   "source": [
    "nltk.download('brown')\n",
    "from nltk.corpus import brown"
   ]
  },
  {
   "cell_type": "code",
   "execution_count": 19,
   "id": "17abede5-3ac7-45e7-b938-e30a1b7e734f",
   "metadata": {},
   "outputs": [
    {
     "name": "stdout",
     "output_type": "stream",
     "text": [
      "Total categories of brown corpus: 15\n",
      "\n",
      "adventure\n",
      "belles_lettres\n",
      "editorial\n",
      "fiction\n",
      "government\n",
      "hobbies\n",
      "humor\n",
      "learned\n",
      "lore\n",
      "mystery\n",
      "news\n",
      "religion\n",
      "reviews\n",
      "romance\n",
      "science_fiction\n"
     ]
    }
   ],
   "source": [
    "print('Total categories of brown corpus:',len(brown.categories()))\n",
    "print()\n",
    "for i in brown.categories():\n",
    "    print(i)"
   ]
  },
  {
   "cell_type": "code",
   "execution_count": 29,
   "id": "5c8f9f3e-6b2b-4dfa-9895-6c1132d61645",
   "metadata": {},
   "outputs": [
    {
     "name": "stdout",
     "output_type": "stream",
     "text": [
      "Words in category news:\n"
     ]
    },
    {
     "data": {
      "text/plain": [
       "['The', 'Fulton', 'County', 'Grand', 'Jury', 'said', ...]"
      ]
     },
     "execution_count": 29,
     "metadata": {},
     "output_type": "execute_result"
    }
   ],
   "source": [
    "print('Words in category news:')\n",
    "brown.words(categories='news')"
   ]
  },
  {
   "cell_type": "code",
   "execution_count": 21,
   "id": "5009d693-fe5d-46a3-92b4-21ddbd34f304",
   "metadata": {},
   "outputs": [
    {
     "data": {
      "text/plain": [
       "['Assembly', 'session', 'brought', 'much', 'good', ...]"
      ]
     },
     "execution_count": 21,
     "metadata": {},
     "output_type": "execute_result"
    }
   ],
   "source": [
    "brown.words(categories='editorial')"
   ]
  },
  {
   "cell_type": "code",
   "execution_count": 22,
   "id": "abef416e-10c3-4cae-8e86-e0523e60df83",
   "metadata": {},
   "outputs": [
    {
     "data": {
      "text/plain": [
       "['Vincent', 'G.', 'Ierulli', 'has', 'been', ...]"
      ]
     },
     "execution_count": 22,
     "metadata": {},
     "output_type": "execute_result"
    }
   ],
   "source": [
    "brown.words(fileids=['ca10'])"
   ]
  },
  {
   "cell_type": "code",
   "execution_count": 23,
   "id": "c6781e2a-c4dd-45ba-88cf-3c960823315a",
   "metadata": {},
   "outputs": [
    {
     "data": {
      "text/plain": [
       "[['The', 'Fulton', 'County', 'Grand', 'Jury', 'said', 'Friday', 'an', 'investigation', 'of', \"Atlanta's\", 'recent', 'primary', 'election', 'produced', '``', 'no', 'evidence', \"''\", 'that', 'any', 'irregularities', 'took', 'place', '.'], ['The', 'jury', 'further', 'said', 'in', 'term-end', 'presentments', 'that', 'the', 'City', 'Executive', 'Committee', ',', 'which', 'had', 'over-all', 'charge', 'of', 'the', 'election', ',', '``', 'deserves', 'the', 'praise', 'and', 'thanks', 'of', 'the', 'City', 'of', 'Atlanta', \"''\", 'for', 'the', 'manner', 'in', 'which', 'the', 'election', 'was', 'conducted', '.'], ...]"
      ]
     },
     "execution_count": 23,
     "metadata": {},
     "output_type": "execute_result"
    }
   ],
   "source": [
    "brown.sents(categories=['news', 'editorial', 'reviews'])"
   ]
  },
  {
   "cell_type": "code",
   "execution_count": 24,
   "id": "238aa252-8bc2-4783-bb87-e38b2e9ea7d5",
   "metadata": {},
   "outputs": [
    {
     "name": "stdout",
     "output_type": "stream",
     "text": [
      "[('There', 'EX'), ('were', 'BED'), ...]\n"
     ]
    }
   ],
   "source": [
    "tagged_words = brown.tagged_words(categories='mystery')\n",
    "print(tagged_words)"
   ]
  },
  {
   "cell_type": "code",
   "execution_count": null,
   "id": "eedd8303-300b-45d6-88d5-0620d72f416c",
   "metadata": {},
   "outputs": [],
   "source": []
  },
  {
   "cell_type": "code",
   "execution_count": 27,
   "id": "325607cd-43c2-4ba1-829a-a8e36bb7246a",
   "metadata": {},
   "outputs": [
    {
     "name": "stdout",
     "output_type": "stream",
     "text": [
      "[['There', 'were', 'thirty-eight', 'patients', 'on', 'the', 'bus', 'the', 'morning', 'I', 'left', 'for', 'Hanover', ',', 'most', 'of', 'them', 'disturbed', 'and', 'hallucinating', '.'], ['An', 'interne', ',', 'a', 'nurse', 'and', 'two', 'attendants', 'were', 'in', 'charge', 'of', 'us', '.'], ...]\n"
     ]
    }
   ],
   "source": [
    "sentences = brown.sents(categories='mystery')\n",
    "print(sentences)"
   ]
  },
  {
   "cell_type": "code",
   "execution_count": null,
   "id": "b0a6bdc0-d247-429c-9e9f-c3bacce501c5",
   "metadata": {},
   "outputs": [],
   "source": []
  },
  {
   "cell_type": "code",
   "execution_count": null,
   "id": "71f40c29-23b2-409c-b1db-e7e6513d9822",
   "metadata": {},
   "outputs": [],
   "source": []
  },
  {
   "cell_type": "code",
   "execution_count": null,
   "id": "c65ce4c7-00bb-43d4-992b-9293131a8009",
   "metadata": {},
   "outputs": [],
   "source": []
  },
  {
   "cell_type": "code",
   "execution_count": 35,
   "id": "65433053-8358-49cd-94ca-f9ffb6bebe06",
   "metadata": {},
   "outputs": [
    {
     "name": "stderr",
     "output_type": "stream",
     "text": [
      "[nltk_data] Downloading package reuters to /home/ram/nltk_data...\n",
      "[nltk_data]   Package reuters is already up-to-date!\n"
     ]
    }
   ],
   "source": [
    "nltk.download('reuters')\n",
    "from nltk.corpus import reuters"
   ]
  },
  {
   "cell_type": "code",
   "execution_count": 30,
   "id": "ddc74ffe-3ec8-4633-8485-394eb9acf5e5",
   "metadata": {},
   "outputs": [
    {
     "name": "stdout",
     "output_type": "stream",
     "text": [
      "Total categories of brown reuters: 90\n",
      "\n",
      "acq\n",
      "alum\n",
      "barley\n",
      "bop\n",
      "carcass\n",
      "castor-oil\n",
      "cocoa\n",
      "coconut\n",
      "coconut-oil\n",
      "coffee\n",
      "copper\n",
      "copra-cake\n",
      "corn\n",
      "cotton\n",
      "cotton-oil\n",
      "cpi\n",
      "cpu\n",
      "crude\n",
      "dfl\n",
      "dlr\n",
      "dmk\n",
      "earn\n",
      "fuel\n",
      "gas\n",
      "gnp\n",
      "gold\n",
      "grain\n",
      "groundnut\n",
      "groundnut-oil\n",
      "heat\n",
      "hog\n",
      "housing\n",
      "income\n",
      "instal-debt\n",
      "interest\n",
      "ipi\n",
      "iron-steel\n",
      "jet\n",
      "jobs\n",
      "l-cattle\n",
      "lead\n",
      "lei\n",
      "lin-oil\n",
      "livestock\n",
      "lumber\n",
      "meal-feed\n",
      "money-fx\n",
      "money-supply\n",
      "naphtha\n",
      "nat-gas\n",
      "nickel\n",
      "nkr\n",
      "nzdlr\n",
      "oat\n",
      "oilseed\n",
      "orange\n",
      "palladium\n",
      "palm-oil\n",
      "palmkernel\n",
      "pet-chem\n",
      "platinum\n",
      "potato\n",
      "propane\n",
      "rand\n",
      "rape-oil\n",
      "rapeseed\n",
      "reserves\n",
      "retail\n",
      "rice\n",
      "rubber\n",
      "rye\n",
      "ship\n",
      "silver\n",
      "sorghum\n",
      "soy-meal\n",
      "soy-oil\n",
      "soybean\n",
      "strategic-metal\n",
      "sugar\n",
      "sun-meal\n",
      "sun-oil\n",
      "sunseed\n",
      "tea\n",
      "tin\n",
      "trade\n",
      "veg-oil\n",
      "wheat\n",
      "wpi\n",
      "yen\n",
      "zinc\n"
     ]
    }
   ],
   "source": [
    "print('Total categories of brown reuters:',len(reuters.categories()))\n",
    "print()\n",
    "for i in reuters.categories():\n",
    "    print(i)"
   ]
  },
  {
   "cell_type": "code",
   "execution_count": 34,
   "id": "21ba9772-c35b-4d26-9346-b94031af4242",
   "metadata": {},
   "outputs": [
    {
     "name": "stdout",
     "output_type": "stream",
     "text": [
      "Words in category tea:\n"
     ]
    },
    {
     "data": {
      "text/plain": [
       "['SRI', 'LANKA', 'GETS', 'USDA', 'APPROVAL', 'FOR', ...]"
      ]
     },
     "execution_count": 34,
     "metadata": {},
     "output_type": "execute_result"
    }
   ],
   "source": [
    "print('Words in category tea:')\n",
    "reuters.words(categories='wheat')"
   ]
  },
  {
   "cell_type": "code",
   "execution_count": 41,
   "id": "1d0ec503-f5bc-41e8-8255-2d94b5c559e6",
   "metadata": {},
   "outputs": [
    {
     "data": {
      "text/plain": [
       "['ASIAN', 'EXPORTERS', 'FEAR', 'DAMAGE', 'FROM', 'U', ...]"
      ]
     },
     "execution_count": 41,
     "metadata": {},
     "output_type": "execute_result"
    }
   ],
   "source": [
    "reuters.words(fileids=['test/14826'])"
   ]
  },
  {
   "cell_type": "code",
   "execution_count": 47,
   "id": "2fe9990c-145e-444b-b0c2-04026fac90aa",
   "metadata": {},
   "outputs": [
    {
     "name": "stderr",
     "output_type": "stream",
     "text": [
      "[nltk_data] Downloading package punkt to /home/ram/nltk_data...\n",
      "[nltk_data]   Package punkt is already up-to-date!\n"
     ]
    },
    {
     "data": {
      "text/plain": [
       "True"
      ]
     },
     "execution_count": 47,
     "metadata": {},
     "output_type": "execute_result"
    }
   ],
   "source": [
    "import nltk\n",
    "nltk.download('punkt')"
   ]
  },
  {
   "cell_type": "code",
   "execution_count": 45,
   "id": "1fda54c9-a47d-4f29-b852-22a5689b4c8a",
   "metadata": {},
   "outputs": [
    {
     "data": {
      "text/plain": [
       "[['ASIAN', 'EXPORTERS', 'FEAR', 'DAMAGE', 'FROM', 'U', '.', 'S', '.-', 'JAPAN', 'RIFT', 'Mounting', 'trade', 'friction', 'between', 'the', 'U', '.', 'S', '.', 'And', 'Japan', 'has', 'raised', 'fears', 'among', 'many', 'of', 'Asia', \"'\", 's', 'exporting', 'nations', 'that', 'the', 'row', 'could', 'inflict', 'far', '-', 'reaching', 'economic', 'damage', ',', 'businessmen', 'and', 'officials', 'said', '.'], ['They', 'told', 'Reuter', 'correspondents', 'in', 'Asian', 'capitals', 'a', 'U', '.', 'S', '.', 'Move', 'against', 'Japan', 'might', 'boost', 'protectionist', 'sentiment', 'in', 'the', 'U', '.', 'S', '.', 'And', 'lead', 'to', 'curbs', 'on', 'American', 'imports', 'of', 'their', 'products', '.'], ...]"
      ]
     },
     "execution_count": 45,
     "metadata": {},
     "output_type": "execute_result"
    }
   ],
   "source": [
    "reuters.sents(categories=['trade', 'tin', 'veg-oil'])"
   ]
  },
  {
   "cell_type": "code",
   "execution_count": 52,
   "id": "dc526929-51ad-43c5-a63d-51fb7ddddca8",
   "metadata": {},
   "outputs": [
    {
     "data": {
      "text/plain": [
       "[['PAKISTAN', 'CONFIRMS', 'KENYA', 'TEA', 'IMPORT', 'INVESTIGATION', 'Pakistan', \"'\", 's', 'Corporate', 'Law', 'Authority', ',', 'CLA', ',', 'has', 'begun', 'an', 'enquiry', 'into', 'imports', 'of', 'tea', 'from', 'Kenya', 'and', 'the', 'trade', 'imbalance', 'between', 'the', 'two', 'countries', ',', 'CLA', 'chairman', 'Irtiza', 'Husain', 'confirmed', '.'], ['He', 'told', 'Reuters', 'by', 'telephone', 'that', 'importers', 'Liptons', 'and', 'Brooke', 'Bond', 'had', 'been', 'asked', 'to', 'supply', 'data', 'to', 'the', 'authority', 'and', 'a', 'hearing', 'would', 'be', 'held', '.'], ...]"
      ]
     },
     "execution_count": 52,
     "metadata": {},
     "output_type": "execute_result"
    }
   ],
   "source": [
    "reuters.sents(categories='tea')"
   ]
  },
  {
   "cell_type": "code",
   "execution_count": null,
   "id": "1243f66b-adb1-4d2b-80a9-89579a215ee6",
   "metadata": {},
   "outputs": [],
   "source": []
  },
  {
   "cell_type": "code",
   "execution_count": null,
   "id": "74a3e810-a6fa-4039-bf2d-64b6ac13a1ee",
   "metadata": {},
   "outputs": [],
   "source": []
  },
  {
   "cell_type": "code",
   "execution_count": null,
   "id": "e9150eb4-c7f0-49b0-ba92-44fbbc13c882",
   "metadata": {},
   "outputs": [],
   "source": []
  },
  {
   "cell_type": "code",
   "execution_count": null,
   "id": "505fb1a0-9b37-4e47-8b57-ec411bb119c4",
   "metadata": {},
   "outputs": [
    {
     "name": "stderr",
     "output_type": "stream",
     "text": [
      "[nltk_data] Downloading package wordnet to /home/ram/nltk_data...\n"
     ]
    }
   ],
   "source": [
    "nltk.download('wordnet')\n",
    "from nltk.corpus import wordnet"
   ]
  }
 ],
 "metadata": {
  "kernelspec": {
   "display_name": "Python 3 (ipykernel)",
   "language": "python",
   "name": "python3"
  },
  "language_info": {
   "codemirror_mode": {
    "name": "ipython",
    "version": 3
   },
   "file_extension": ".py",
   "mimetype": "text/x-python",
   "name": "python",
   "nbconvert_exporter": "python",
   "pygments_lexer": "ipython3",
   "version": "3.12.4"
  }
 },
 "nbformat": 4,
 "nbformat_minor": 5
}
