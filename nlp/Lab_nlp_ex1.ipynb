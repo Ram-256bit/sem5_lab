{
 "cells": [
  {
   "cell_type": "code",
   "execution_count": 17,
   "id": "4c664ba0-8d1f-400c-a8f8-9a648a448cbf",
   "metadata": {},
   "outputs": [],
   "source": [
    "import nltk"
   ]
  },
  {
   "cell_type": "code",
   "execution_count": 18,
   "id": "b5ee4313-d139-4443-8690-6dfc7496f8e3",
   "metadata": {},
   "outputs": [
    {
     "name": "stderr",
     "output_type": "stream",
     "text": [
      "[nltk_data] Downloading package brown to /home/ram/nltk_data...\n",
      "[nltk_data]   Package brown is already up-to-date!\n"
     ]
    }
   ],
   "source": [
    "nltk.download('brown')\n",
    "from nltk.corpus import brown"
   ]
  },
  {
   "cell_type": "code",
   "execution_count": 19,
   "id": "17abede5-3ac7-45e7-b938-e30a1b7e734f",
   "metadata": {},
   "outputs": [
    {
     "name": "stdout",
     "output_type": "stream",
     "text": [
      "Total categories of brown corpus: 15\n",
      "\n",
      "adventure\n",
      "belles_lettres\n",
      "editorial\n",
      "fiction\n",
      "government\n",
      "hobbies\n",
      "humor\n",
      "learned\n",
      "lore\n",
      "mystery\n",
      "news\n",
      "religion\n",
      "reviews\n",
      "romance\n",
      "science_fiction\n"
     ]
    }
   ],
   "source": [
    "print('Total categories of brown corpus:',len(brown.categories()))\n",
    "print()\n",
    "for i in brown.categories():\n",
    "    print(i)"
   ]
  },
  {
   "cell_type": "code",
   "execution_count": 29,
   "id": "5c8f9f3e-6b2b-4dfa-9895-6c1132d61645",
   "metadata": {},
   "outputs": [
    {
     "name": "stdout",
     "output_type": "stream",
     "text": [
      "Words in category news:\n"
     ]
    },
    {
     "data": {
      "text/plain": [
       "['The', 'Fulton', 'County', 'Grand', 'Jury', 'said', ...]"
      ]
     },
     "execution_count": 29,
     "metadata": {},
     "output_type": "execute_result"
    }
   ],
   "source": [
    "print('Words in category news:')\n",
    "brown.words(categories='news')"
   ]
  },
  {
   "cell_type": "code",
   "execution_count": 21,
   "id": "5009d693-fe5d-46a3-92b4-21ddbd34f304",
   "metadata": {},
   "outputs": [
    {
     "data": {
      "text/plain": [
       "['Assembly', 'session', 'brought', 'much', 'good', ...]"
      ]
     },
     "execution_count": 21,
     "metadata": {},
     "output_type": "execute_result"
    }
   ],
   "source": [
    "brown.words(categories='editorial')"
   ]
  },
  {
   "cell_type": "code",
   "execution_count": 22,
   "id": "abef416e-10c3-4cae-8e86-e0523e60df83",
   "metadata": {},
   "outputs": [
    {
     "data": {
      "text/plain": [
       "['Vincent', 'G.', 'Ierulli', 'has', 'been', ...]"
      ]
     },
     "execution_count": 22,
     "metadata": {},
     "output_type": "execute_result"
    }
   ],
   "source": [
    "brown.words(fileids=['ca10'])"
   ]
  },
  {
   "cell_type": "code",
   "execution_count": 23,
   "id": "c6781e2a-c4dd-45ba-88cf-3c960823315a",
   "metadata": {},
   "outputs": [
    {
     "data": {
      "text/plain": [
       "[['The', 'Fulton', 'County', 'Grand', 'Jury', 'said', 'Friday', 'an', 'investigation', 'of', \"Atlanta's\", 'recent', 'primary', 'election', 'produced', '``', 'no', 'evidence', \"''\", 'that', 'any', 'irregularities', 'took', 'place', '.'], ['The', 'jury', 'further', 'said', 'in', 'term-end', 'presentments', 'that', 'the', 'City', 'Executive', 'Committee', ',', 'which', 'had', 'over-all', 'charge', 'of', 'the', 'election', ',', '``', 'deserves', 'the', 'praise', 'and', 'thanks', 'of', 'the', 'City', 'of', 'Atlanta', \"''\", 'for', 'the', 'manner', 'in', 'which', 'the', 'election', 'was', 'conducted', '.'], ...]"
      ]
     },
     "execution_count": 23,
     "metadata": {},
     "output_type": "execute_result"
    }
   ],
   "source": [
    "brown.sents(categories=['news', 'editorial', 'reviews'])"
   ]
  },
  {
   "cell_type": "code",
   "execution_count": 24,
   "id": "238aa252-8bc2-4783-bb87-e38b2e9ea7d5",
   "metadata": {},
   "outputs": [
    {
     "name": "stdout",
     "output_type": "stream",
     "text": [
      "[('There', 'EX'), ('were', 'BED'), ...]\n"
     ]
    }
   ],
   "source": [
    "tagged_words = brown.tagged_words(categories='mystery')\n",
    "print(tagged_words)"
   ]
  },
  {
   "cell_type": "code",
   "execution_count": null,
   "id": "eedd8303-300b-45d6-88d5-0620d72f416c",
   "metadata": {},
   "outputs": [],
   "source": []
  },
  {
   "cell_type": "code",
   "execution_count": 27,
   "id": "325607cd-43c2-4ba1-829a-a8e36bb7246a",
   "metadata": {},
   "outputs": [
    {
     "name": "stdout",
     "output_type": "stream",
     "text": [
      "[['There', 'were', 'thirty-eight', 'patients', 'on', 'the', 'bus', 'the', 'morning', 'I', 'left', 'for', 'Hanover', ',', 'most', 'of', 'them', 'disturbed', 'and', 'hallucinating', '.'], ['An', 'interne', ',', 'a', 'nurse', 'and', 'two', 'attendants', 'were', 'in', 'charge', 'of', 'us', '.'], ...]\n"
     ]
    }
   ],
   "source": [
    "sentences = brown.sents(categories='mystery')\n",
    "print(sentences)"
   ]
  },
  {
   "cell_type": "code",
   "execution_count": null,
   "id": "b0a6bdc0-d247-429c-9e9f-c3bacce501c5",
   "metadata": {},
   "outputs": [],
   "source": []
  },
  {
   "cell_type": "code",
   "execution_count": null,
   "id": "71f40c29-23b2-409c-b1db-e7e6513d9822",
   "metadata": {},
   "outputs": [],
   "source": []
  },
  {
   "cell_type": "code",
   "execution_count": null,
   "id": "c65ce4c7-00bb-43d4-992b-9293131a8009",
   "metadata": {},
   "outputs": [],
   "source": []
  },
  {
   "cell_type": "code",
   "execution_count": 35,
   "id": "65433053-8358-49cd-94ca-f9ffb6bebe06",
   "metadata": {},
   "outputs": [
    {
     "name": "stderr",
     "output_type": "stream",
     "text": [
      "[nltk_data] Downloading package reuters to /home/ram/nltk_data...\n",
      "[nltk_data]   Package reuters is already up-to-date!\n"
     ]
    }
   ],
   "source": [
    "nltk.download('reuters')\n",
    "from nltk.corpus import reuters"
   ]
  },
  {
   "cell_type": "code",
   "execution_count": 30,
   "id": "ddc74ffe-3ec8-4633-8485-394eb9acf5e5",
   "metadata": {},
   "outputs": [
    {
     "name": "stdout",
     "output_type": "stream",
     "text": [
      "Total categories of brown reuters: 90\n",
      "\n",
      "acq\n",
      "alum\n",
      "barley\n",
      "bop\n",
      "carcass\n",
      "castor-oil\n",
      "cocoa\n",
      "coconut\n",
      "coconut-oil\n",
      "coffee\n",
      "copper\n",
      "copra-cake\n",
      "corn\n",
      "cotton\n",
      "cotton-oil\n",
      "cpi\n",
      "cpu\n",
      "crude\n",
      "dfl\n",
      "dlr\n",
      "dmk\n",
      "earn\n",
      "fuel\n",
      "gas\n",
      "gnp\n",
      "gold\n",
      "grain\n",
      "groundnut\n",
      "groundnut-oil\n",
      "heat\n",
      "hog\n",
      "housing\n",
      "income\n",
      "instal-debt\n",
      "interest\n",
      "ipi\n",
      "iron-steel\n",
      "jet\n",
      "jobs\n",
      "l-cattle\n",
      "lead\n",
      "lei\n",
      "lin-oil\n",
      "livestock\n",
      "lumber\n",
      "meal-feed\n",
      "money-fx\n",
      "money-supply\n",
      "naphtha\n",
      "nat-gas\n",
      "nickel\n",
      "nkr\n",
      "nzdlr\n",
      "oat\n",
      "oilseed\n",
      "orange\n",
      "palladium\n",
      "palm-oil\n",
      "palmkernel\n",
      "pet-chem\n",
      "platinum\n",
      "potato\n",
      "propane\n",
      "rand\n",
      "rape-oil\n",
      "rapeseed\n",
      "reserves\n",
      "retail\n",
      "rice\n",
      "rubber\n",
      "rye\n",
      "ship\n",
      "silver\n",
      "sorghum\n",
      "soy-meal\n",
      "soy-oil\n",
      "soybean\n",
      "strategic-metal\n",
      "sugar\n",
      "sun-meal\n",
      "sun-oil\n",
      "sunseed\n",
      "tea\n",
      "tin\n",
      "trade\n",
      "veg-oil\n",
      "wheat\n",
      "wpi\n",
      "yen\n",
      "zinc\n"
     ]
    }
   ],
   "source": [
    "print('Total categories of brown reuters:',len(reuters.categories()))\n",
    "print()\n",
    "for i in reuters.categories():\n",
    "    print(i)"
   ]
  },
  {
   "cell_type": "code",
   "execution_count": 34,
   "id": "21ba9772-c35b-4d26-9346-b94031af4242",
   "metadata": {},
   "outputs": [
    {
     "name": "stdout",
     "output_type": "stream",
     "text": [
      "Words in category tea:\n"
     ]
    },
    {
     "data": {
      "text/plain": [
       "['SRI', 'LANKA', 'GETS', 'USDA', 'APPROVAL', 'FOR', ...]"
      ]
     },
     "execution_count": 34,
     "metadata": {},
     "output_type": "execute_result"
    }
   ],
   "source": [
    "print('Words in category tea:')\n",
    "reuters.words(categories='wheat')"
   ]
  },
  {
   "cell_type": "code",
   "execution_count": 38,
   "id": "1d0ec503-f5bc-41e8-8255-2d94b5c559e6",
   "metadata": {},
   "outputs": [
    {
     "ename": "OSError",
     "evalue": "Zipfile '/home/ram/nltk_data/corpora/reuters.zip' does not contain 'reuters/test/14844 '",
     "output_type": "error",
     "traceback": [
      "\u001b[0;31m---------------------------------------------------------------------------\u001b[0m",
      "\u001b[0;31mKeyError\u001b[0m                                  Traceback (most recent call last)",
      "File \u001b[0;32m/usr/lib/python3.12/site-packages/nltk/data.py:403\u001b[0m, in \u001b[0;36mZipFilePathPointer.__init__\u001b[0;34m(self, zipfile, entry)\u001b[0m\n\u001b[1;32m    402\u001b[0m \u001b[38;5;28;01mtry\u001b[39;00m:\n\u001b[0;32m--> 403\u001b[0m     \u001b[43mzipfile\u001b[49m\u001b[38;5;241;43m.\u001b[39;49m\u001b[43mgetinfo\u001b[49m\u001b[43m(\u001b[49m\u001b[43mentry\u001b[49m\u001b[43m)\u001b[49m\n\u001b[1;32m    404\u001b[0m \u001b[38;5;28;01mexcept\u001b[39;00m \u001b[38;5;167;01mException\u001b[39;00m \u001b[38;5;28;01mas\u001b[39;00m e:\n\u001b[1;32m    405\u001b[0m     \u001b[38;5;66;03m# Sometimes directories aren't explicitly listed in\u001b[39;00m\n\u001b[1;32m    406\u001b[0m     \u001b[38;5;66;03m# the zip file.  So if `entry` is a directory name,\u001b[39;00m\n\u001b[1;32m    407\u001b[0m     \u001b[38;5;66;03m# then check if the zipfile contains any files that\u001b[39;00m\n\u001b[1;32m    408\u001b[0m     \u001b[38;5;66;03m# are under the given directory.\u001b[39;00m\n",
      "File \u001b[0;32m/usr/lib/python3.12/zipfile/__init__.py:1532\u001b[0m, in \u001b[0;36mZipFile.getinfo\u001b[0;34m(self, name)\u001b[0m\n\u001b[1;32m   1531\u001b[0m \u001b[38;5;28;01mif\u001b[39;00m info \u001b[38;5;129;01mis\u001b[39;00m \u001b[38;5;28;01mNone\u001b[39;00m:\n\u001b[0;32m-> 1532\u001b[0m     \u001b[38;5;28;01mraise\u001b[39;00m \u001b[38;5;167;01mKeyError\u001b[39;00m(\n\u001b[1;32m   1533\u001b[0m         \u001b[38;5;124m'\u001b[39m\u001b[38;5;124mThere is no item named \u001b[39m\u001b[38;5;132;01m%r\u001b[39;00m\u001b[38;5;124m in the archive\u001b[39m\u001b[38;5;124m'\u001b[39m \u001b[38;5;241m%\u001b[39m name)\n\u001b[1;32m   1535\u001b[0m \u001b[38;5;28;01mreturn\u001b[39;00m info\n",
      "\u001b[0;31mKeyError\u001b[0m: \"There is no item named 'reuters/test/14844 ' in the archive\"",
      "\nThe above exception was the direct cause of the following exception:\n",
      "\u001b[0;31mOSError\u001b[0m                                   Traceback (most recent call last)",
      "Cell \u001b[0;32mIn[38], line 1\u001b[0m\n\u001b[0;32m----> 1\u001b[0m \u001b[43mreuters\u001b[49m\u001b[38;5;241;43m.\u001b[39;49m\u001b[43mwords\u001b[49m\u001b[43m(\u001b[49m\u001b[43mfileids\u001b[49m\u001b[38;5;241;43m=\u001b[39;49m\u001b[43m[\u001b[49m\u001b[38;5;124;43m'\u001b[39;49m\u001b[38;5;124;43mtest/14844 \u001b[39;49m\u001b[38;5;124;43m'\u001b[39;49m\u001b[43m]\u001b[49m\u001b[43m)\u001b[49m\n",
      "File \u001b[0;32m/usr/lib/python3.12/site-packages/nltk/corpus/reader/api.py:406\u001b[0m, in \u001b[0;36mCategorizedCorpusReader.words\u001b[0;34m(self, fileids, categories)\u001b[0m\n\u001b[1;32m    405\u001b[0m \u001b[38;5;28;01mdef\u001b[39;00m \u001b[38;5;21mwords\u001b[39m(\u001b[38;5;28mself\u001b[39m, fileids\u001b[38;5;241m=\u001b[39m\u001b[38;5;28;01mNone\u001b[39;00m, categories\u001b[38;5;241m=\u001b[39m\u001b[38;5;28;01mNone\u001b[39;00m):\n\u001b[0;32m--> 406\u001b[0m     \u001b[38;5;28;01mreturn\u001b[39;00m \u001b[38;5;28;43msuper\u001b[39;49m\u001b[43m(\u001b[49m\u001b[43m)\u001b[49m\u001b[38;5;241;43m.\u001b[39;49m\u001b[43mwords\u001b[49m\u001b[43m(\u001b[49m\u001b[38;5;28;43mself\u001b[39;49m\u001b[38;5;241;43m.\u001b[39;49m\u001b[43m_resolve\u001b[49m\u001b[43m(\u001b[49m\u001b[43mfileids\u001b[49m\u001b[43m,\u001b[49m\u001b[43m \u001b[49m\u001b[43mcategories\u001b[49m\u001b[43m)\u001b[49m\u001b[43m)\u001b[49m\n",
      "File \u001b[0;32m/usr/lib/python3.12/site-packages/nltk/corpus/reader/plaintext.py:76\u001b[0m, in \u001b[0;36mPlaintextCorpusReader.words\u001b[0;34m(self, fileids)\u001b[0m\n\u001b[1;32m     67\u001b[0m \u001b[38;5;28;01mdef\u001b[39;00m \u001b[38;5;21mwords\u001b[39m(\u001b[38;5;28mself\u001b[39m, fileids\u001b[38;5;241m=\u001b[39m\u001b[38;5;28;01mNone\u001b[39;00m):\n\u001b[1;32m     68\u001b[0m \u001b[38;5;250m    \u001b[39m\u001b[38;5;124;03m\"\"\"\u001b[39;00m\n\u001b[1;32m     69\u001b[0m \u001b[38;5;124;03m    :return: the given file(s) as a list of words\u001b[39;00m\n\u001b[1;32m     70\u001b[0m \u001b[38;5;124;03m        and punctuation symbols.\u001b[39;00m\n\u001b[1;32m     71\u001b[0m \u001b[38;5;124;03m    :rtype: list(str)\u001b[39;00m\n\u001b[1;32m     72\u001b[0m \u001b[38;5;124;03m    \"\"\"\u001b[39;00m\n\u001b[1;32m     73\u001b[0m     \u001b[38;5;28;01mreturn\u001b[39;00m concat(\n\u001b[1;32m     74\u001b[0m         [\n\u001b[1;32m     75\u001b[0m             \u001b[38;5;28mself\u001b[39m\u001b[38;5;241m.\u001b[39mCorpusView(path, \u001b[38;5;28mself\u001b[39m\u001b[38;5;241m.\u001b[39m_read_word_block, encoding\u001b[38;5;241m=\u001b[39menc)\n\u001b[0;32m---> 76\u001b[0m             \u001b[38;5;28;01mfor\u001b[39;00m (path, enc, fileid) \u001b[38;5;129;01min\u001b[39;00m \u001b[38;5;28;43mself\u001b[39;49m\u001b[38;5;241;43m.\u001b[39;49m\u001b[43mabspaths\u001b[49m\u001b[43m(\u001b[49m\u001b[43mfileids\u001b[49m\u001b[43m,\u001b[49m\u001b[43m \u001b[49m\u001b[38;5;28;43;01mTrue\u001b[39;49;00m\u001b[43m,\u001b[49m\u001b[43m \u001b[49m\u001b[38;5;28;43;01mTrue\u001b[39;49;00m\u001b[43m)\u001b[49m\n\u001b[1;32m     77\u001b[0m         ]\n\u001b[1;32m     78\u001b[0m     )\n",
      "File \u001b[0;32m/usr/lib/python3.12/site-packages/nltk/corpus/reader/api.py:195\u001b[0m, in \u001b[0;36mCorpusReader.abspaths\u001b[0;34m(self, fileids, include_encoding, include_fileid)\u001b[0m\n\u001b[1;32m    192\u001b[0m \u001b[38;5;28;01melif\u001b[39;00m \u001b[38;5;28misinstance\u001b[39m(fileids, \u001b[38;5;28mstr\u001b[39m):\n\u001b[1;32m    193\u001b[0m     fileids \u001b[38;5;241m=\u001b[39m [fileids]\n\u001b[0;32m--> 195\u001b[0m paths \u001b[38;5;241m=\u001b[39m [\u001b[38;5;28;43mself\u001b[39;49m\u001b[38;5;241;43m.\u001b[39;49m\u001b[43m_root\u001b[49m\u001b[38;5;241;43m.\u001b[39;49m\u001b[43mjoin\u001b[49m\u001b[43m(\u001b[49m\u001b[43mf\u001b[49m\u001b[43m)\u001b[49m \u001b[38;5;28;01mfor\u001b[39;00m f \u001b[38;5;129;01min\u001b[39;00m fileids]\n\u001b[1;32m    197\u001b[0m \u001b[38;5;28;01mif\u001b[39;00m include_encoding \u001b[38;5;129;01mand\u001b[39;00m include_fileid:\n\u001b[1;32m    198\u001b[0m     \u001b[38;5;28;01mreturn\u001b[39;00m \u001b[38;5;28mlist\u001b[39m(\u001b[38;5;28mzip\u001b[39m(paths, [\u001b[38;5;28mself\u001b[39m\u001b[38;5;241m.\u001b[39mencoding(f) \u001b[38;5;28;01mfor\u001b[39;00m f \u001b[38;5;129;01min\u001b[39;00m fileids], fileids))\n",
      "File \u001b[0;32m/usr/lib/python3.12/site-packages/nltk/data.py:451\u001b[0m, in \u001b[0;36mZipFilePathPointer.join\u001b[0;34m(self, fileid)\u001b[0m\n\u001b[1;32m    449\u001b[0m \u001b[38;5;28;01mdef\u001b[39;00m \u001b[38;5;21mjoin\u001b[39m(\u001b[38;5;28mself\u001b[39m, fileid):\n\u001b[1;32m    450\u001b[0m     entry \u001b[38;5;241m=\u001b[39m \u001b[38;5;124mf\u001b[39m\u001b[38;5;124m\"\u001b[39m\u001b[38;5;132;01m{\u001b[39;00m\u001b[38;5;28mself\u001b[39m\u001b[38;5;241m.\u001b[39m_entry\u001b[38;5;132;01m}\u001b[39;00m\u001b[38;5;124m/\u001b[39m\u001b[38;5;132;01m{\u001b[39;00mfileid\u001b[38;5;132;01m}\u001b[39;00m\u001b[38;5;124m\"\u001b[39m\n\u001b[0;32m--> 451\u001b[0m     \u001b[38;5;28;01mreturn\u001b[39;00m \u001b[43mZipFilePathPointer\u001b[49m\u001b[43m(\u001b[49m\u001b[38;5;28;43mself\u001b[39;49m\u001b[38;5;241;43m.\u001b[39;49m\u001b[43m_zipfile\u001b[49m\u001b[43m,\u001b[49m\u001b[43m \u001b[49m\u001b[43mentry\u001b[49m\u001b[43m)\u001b[49m\n",
      "File \u001b[0;32m/usr/lib/python3.12/site-packages/nltk/compat.py:41\u001b[0m, in \u001b[0;36mpy3_data.<locals>._decorator\u001b[0;34m(*args, **kwargs)\u001b[0m\n\u001b[1;32m     39\u001b[0m \u001b[38;5;28;01mdef\u001b[39;00m \u001b[38;5;21m_decorator\u001b[39m(\u001b[38;5;241m*\u001b[39margs, \u001b[38;5;241m*\u001b[39m\u001b[38;5;241m*\u001b[39mkwargs):\n\u001b[1;32m     40\u001b[0m     args \u001b[38;5;241m=\u001b[39m (args[\u001b[38;5;241m0\u001b[39m], add_py3_data(args[\u001b[38;5;241m1\u001b[39m])) \u001b[38;5;241m+\u001b[39m args[\u001b[38;5;241m2\u001b[39m:]\n\u001b[0;32m---> 41\u001b[0m     \u001b[38;5;28;01mreturn\u001b[39;00m \u001b[43minit_func\u001b[49m\u001b[43m(\u001b[49m\u001b[38;5;241;43m*\u001b[39;49m\u001b[43margs\u001b[49m\u001b[43m,\u001b[49m\u001b[43m \u001b[49m\u001b[38;5;241;43m*\u001b[39;49m\u001b[38;5;241;43m*\u001b[39;49m\u001b[43mkwargs\u001b[49m\u001b[43m)\u001b[49m\n",
      "File \u001b[0;32m/usr/lib/python3.12/site-packages/nltk/data.py:415\u001b[0m, in \u001b[0;36mZipFilePathPointer.__init__\u001b[0;34m(self, zipfile, entry)\u001b[0m\n\u001b[1;32m    412\u001b[0m             \u001b[38;5;28;01mpass\u001b[39;00m  \u001b[38;5;66;03m# zipfile contains a file in that directory.\u001b[39;00m\n\u001b[1;32m    413\u001b[0m         \u001b[38;5;28;01melse\u001b[39;00m:\n\u001b[1;32m    414\u001b[0m             \u001b[38;5;66;03m# Otherwise, complain.\u001b[39;00m\n\u001b[0;32m--> 415\u001b[0m             \u001b[38;5;28;01mraise\u001b[39;00m \u001b[38;5;167;01mOSError\u001b[39;00m(\n\u001b[1;32m    416\u001b[0m                 \u001b[38;5;124mf\u001b[39m\u001b[38;5;124m\"\u001b[39m\u001b[38;5;124mZipfile \u001b[39m\u001b[38;5;132;01m{\u001b[39;00mzipfile\u001b[38;5;241m.\u001b[39mfilename\u001b[38;5;132;01m!r}\u001b[39;00m\u001b[38;5;124m does not contain \u001b[39m\u001b[38;5;132;01m{\u001b[39;00mentry\u001b[38;5;132;01m!r}\u001b[39;00m\u001b[38;5;124m\"\u001b[39m\n\u001b[1;32m    417\u001b[0m             ) \u001b[38;5;28;01mfrom\u001b[39;00m \u001b[38;5;21;01me\u001b[39;00m\n\u001b[1;32m    418\u001b[0m \u001b[38;5;28mself\u001b[39m\u001b[38;5;241m.\u001b[39m_zipfile \u001b[38;5;241m=\u001b[39m zipfile\n\u001b[1;32m    419\u001b[0m \u001b[38;5;28mself\u001b[39m\u001b[38;5;241m.\u001b[39m_entry \u001b[38;5;241m=\u001b[39m entry\n",
      "\u001b[0;31mOSError\u001b[0m: Zipfile '/home/ram/nltk_data/corpora/reuters.zip' does not contain 'reuters/test/14844 '"
     ]
    }
   ],
   "source": [
    "reuters.words(fileids=['test/14844 '])"
   ]
  }
 ],
 "metadata": {
  "kernelspec": {
   "display_name": "Python 3 (ipykernel)",
   "language": "python",
   "name": "python3"
  },
  "language_info": {
   "codemirror_mode": {
    "name": "ipython",
    "version": 3
   },
   "file_extension": ".py",
   "mimetype": "text/x-python",
   "name": "python",
   "nbconvert_exporter": "python",
   "pygments_lexer": "ipython3",
   "version": "3.12.4"
  }
 },
 "nbformat": 4,
 "nbformat_minor": 5
}
